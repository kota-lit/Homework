{
 "cells": [
  {
   "cell_type": "markdown",
   "metadata": {},
   "source": [
    "##5.3 Python Homework"
   ]
  },
  {
   "cell_type": "markdown",
   "metadata": {},
   "source": [
    "# Create a list of at least 5 elements of mixed data types"
   ]
  },
  {
   "cell_type": "code",
   "execution_count": 3,
   "metadata": {},
   "outputs": [
    {
     "name": "stdout",
     "output_type": "stream",
     "text": [
      "['Dakota Litton', 32, 6.1, 5j, [1, 2, 3], False]\n"
     ]
    }
   ],
   "source": [
    "list = [\"Dakota\",32,6.1,5j,[1,2,3],False]"
   ]
  },
  {
   "cell_type": "markdown",
   "metadata": {},
   "source": [
    "Replace a part of it with something else."
   ]
  },
  {
   "cell_type": "code",
   "execution_count": 4,
   "metadata": {},
   "outputs": [
    {
     "name": "stdout",
     "output_type": "stream",
     "text": [
      "['Dakota Litton', 32, 6.1, 5j, [1, 2, 3], False]\n"
     ]
    }
   ],
   "source": [
    "list[0] = \"Dakota Litton\"\n",
    "print(list)"
   ]
  },
  {
   "cell_type": "markdown",
   "metadata": {},
   "source": [
    "Append or insert several more items to the list."
   ]
  },
  {
   "cell_type": "code",
   "execution_count": 6,
   "metadata": {},
   "outputs": [
    {
     "name": "stdout",
     "output_type": "stream",
     "text": [
      "Updated list + ['Dakota Litton', 32, 6.1, 5j, [1, 2, 3], False, 'This is a test string']\n"
     ]
    }
   ],
   "source": [
    "list.append(\"This is a test string\")\n",
    "print(\"Updated list +\",list)"
   ]
  },
  {
   "cell_type": "markdown",
   "metadata": {},
   "source": [
    "Find and print the length of the list"
   ]
  },
  {
   "cell_type": "code",
   "execution_count": 8,
   "metadata": {},
   "outputs": [
    {
     "name": "stdout",
     "output_type": "stream",
     "text": [
      "The size of the list is  7\n"
     ]
    }
   ],
   "source": [
    "listLength = len(list)\n",
    "print(\"The size of the list is \",listLength)"
   ]
  },
  {
   "cell_type": "markdown",
   "metadata": {},
   "source": [
    "Slice a sub-section of the 1st list, and save it to a different 2nd list"
   ]
  },
  {
   "cell_type": "code",
   "execution_count": 23,
   "metadata": {},
   "outputs": [
    {
     "name": "stdout",
     "output_type": "stream",
     "text": [
      "[32, 6.1, 5j]\n"
     ]
    }
   ],
   "source": [
    "list2 = list[1:4]\n",
    "print(list2)"
   ]
  },
  {
   "cell_type": "markdown",
   "metadata": {},
   "source": [
    "Extend your original list with the 2nd list sliced above."
   ]
  },
  {
   "cell_type": "code",
   "execution_count": 13,
   "metadata": {},
   "outputs": [
    {
     "name": "stdout",
     "output_type": "stream",
     "text": [
      "Extended list is  ['Dakota Litton', 32, 6.1, 5j, [1, 2, 3], False, 'This is a test string', 32, 6.1]\n"
     ]
    }
   ],
   "source": [
    "list.extend(list2)\n",
    "print(\"Extended list is \",list)"
   ]
  },
  {
   "cell_type": "markdown",
   "metadata": {},
   "source": [
    "Create a new list called \"simList\" containing at least 5 elements of the same data type, either string, integer, float, or Boolean."
   ]
  },
  {
   "cell_type": "code",
   "execution_count": 16,
   "metadata": {},
   "outputs": [],
   "source": [
    "simList = [12, 32, 13, 66, 9]"
   ]
  },
  {
   "cell_type": "markdown",
   "metadata": {},
   "source": [
    "Sort \"simList\", and print the list"
   ]
  },
  {
   "cell_type": "code",
   "execution_count": 17,
   "metadata": {},
   "outputs": [
    {
     "name": "stdout",
     "output_type": "stream",
     "text": [
      "[9, 12, 13, 32, 66]\n"
     ]
    }
   ],
   "source": [
    "simList.sort()\n",
    "print(simList)"
   ]
  },
  {
   "cell_type": "markdown",
   "metadata": {},
   "source": [
    "Copy the \"simList\" list to another 3rd list"
   ]
  },
  {
   "cell_type": "code",
   "execution_count": 29,
   "metadata": {},
   "outputs": [
    {
     "name": "stdout",
     "output_type": "stream",
     "text": [
      "[9, 12, 13, 32, 66]\n"
     ]
    }
   ],
   "source": [
    "thirdList = simList.copy()\n",
    "print(thirdList)"
   ]
  },
  {
   "cell_type": "markdown",
   "metadata": {},
   "source": [
    "Add the 2nd and 3rd lists together into a 4th list"
   ]
  },
  {
   "cell_type": "code",
   "execution_count": 31,
   "metadata": {},
   "outputs": [],
   "source": [
    "list4 = (list2 + thirdList)"
   ]
  },
  {
   "cell_type": "markdown",
   "metadata": {},
   "source": [
    "# Create a tuple of about 5 elements"
   ]
  },
  {
   "cell_type": "code",
   "execution_count": 40,
   "metadata": {},
   "outputs": [],
   "source": [
    "tuple1 = (\"Nelson\", \"Howard\", \"Turkgolu\", \"Lewis\",\"Pietrus\")"
   ]
  },
  {
   "cell_type": "markdown",
   "metadata": {},
   "source": [
    "Multiply your tuple by 3 and save it to a new 2nd tuple"
   ]
  },
  {
   "cell_type": "code",
   "execution_count": 41,
   "metadata": {},
   "outputs": [
    {
     "name": "stdout",
     "output_type": "stream",
     "text": [
      "('Nelson', 'Howard', 'Turkgolu', 'Lewis', 'Pietrus', 'Nelson', 'Howard', 'Turkgolu', 'Lewis', 'Pietrus', 'Nelson', 'Howard', 'Turkgolu', 'Lewis', 'Pietrus')\n"
     ]
    }
   ],
   "source": [
    "tuple2 = tuple1 * 3\n",
    "print(tuple2)"
   ]
  },
  {
   "cell_type": "markdown",
   "metadata": {},
   "source": [
    "Access and print the 12th element from the 2nd tuple"
   ]
  },
  {
   "cell_type": "code",
   "execution_count": 42,
   "metadata": {},
   "outputs": [
    {
     "name": "stdout",
     "output_type": "stream",
     "text": [
      "Turkgolu\n"
     ]
    }
   ],
   "source": [
    "print(tuple2[12])"
   ]
  },
  {
   "cell_type": "markdown",
   "metadata": {},
   "source": [
    "Sort the second tuple and print it."
   ]
  },
  {
   "cell_type": "code",
   "execution_count": 43,
   "metadata": {},
   "outputs": [
    {
     "name": "stdout",
     "output_type": "stream",
     "text": [
      "['Howard', 'Howard', 'Howard', 'Lewis', 'Lewis', 'Lewis', 'Nelson', 'Nelson', 'Nelson', 'Pietrus', 'Pietrus', 'Pietrus', 'Turkgolu', 'Turkgolu', 'Turkgolu']\n"
     ]
    }
   ],
   "source": [
    "print(sorted(tuple2))"
   ]
  },
  {
   "cell_type": "markdown",
   "metadata": {},
   "source": [
    "Copy 4 specific elements from your 2nd tuple to a new 3rd tuple. "
   ]
  },
  {
   "cell_type": "code",
   "execution_count": 44,
   "metadata": {},
   "outputs": [
    {
     "name": "stdout",
     "output_type": "stream",
     "text": [
      "('Howard', 'Turkgolu', 'Lewis', 'Pietrus')\n"
     ]
    }
   ],
   "source": [
    "tuple3 = tuple2[1:5]\n",
    "print(tuple3)"
   ]
  },
  {
   "cell_type": "markdown",
   "metadata": {},
   "source": []
  },
  {
   "cell_type": "code",
   "execution_count": null,
   "metadata": {},
   "outputs": [],
   "source": []
  },
  {
   "cell_type": "markdown",
   "metadata": {},
   "source": []
  },
  {
   "cell_type": "code",
   "execution_count": null,
   "metadata": {},
   "outputs": [],
   "source": []
  },
  {
   "cell_type": "markdown",
   "metadata": {},
   "source": []
  }
 ],
 "metadata": {
  "kernelspec": {
   "display_name": "Python 3.10.7 64-bit",
   "language": "python",
   "name": "python3"
  },
  "language_info": {
   "codemirror_mode": {
    "name": "ipython",
    "version": 3
   },
   "file_extension": ".py",
   "mimetype": "text/x-python",
   "name": "python",
   "nbconvert_exporter": "python",
   "pygments_lexer": "ipython3",
   "version": "3.10.7"
  },
  "orig_nbformat": 4,
  "vscode": {
   "interpreter": {
    "hash": "aee8b7b246df8f9039afb4144a1f6fd8d2ca17a180786b69acc140d282b71a49"
   }
  }
 },
 "nbformat": 4,
 "nbformat_minor": 2
}
