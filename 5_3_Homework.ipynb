{
 "cells": [
  {
   "cell_type": "markdown",
   "metadata": {},
   "source": [
    "##5.3 Python Homework"
   ]
  },
  {
   "cell_type": "markdown",
   "metadata": {},
   "source": [
    "# Create a list of at least 5 elements of mixed data types"
   ]
  },
  {
   "cell_type": "code",
   "execution_count": 3,
   "metadata": {},
   "outputs": [
    {
     "name": "stdout",
     "output_type": "stream",
     "text": [
      "['Dakota Litton', 32, 6.1, 5j, [1, 2, 3], False]\n"
     ]
    }
   ],
   "source": [
    "list = [\"Dakota\",32,6.1,5j,[1,2,3],False]"
   ]
  },
  {
   "cell_type": "markdown",
   "metadata": {},
   "source": [
    "Replace a part of it with something else."
   ]
  },
  {
   "cell_type": "code",
   "execution_count": 4,
   "metadata": {},
   "outputs": [
    {
     "name": "stdout",
     "output_type": "stream",
     "text": [
      "['Dakota Litton', 32, 6.1, 5j, [1, 2, 3], False]\n"
     ]
    }
   ],
   "source": [
    "list[0] = \"Dakota Litton\"\n",
    "print(list)"
   ]
  },
  {
   "cell_type": "markdown",
   "metadata": {},
   "source": [
    "Append or insert several more items to the list."
   ]
  },
  {
   "cell_type": "code",
   "execution_count": 6,
   "metadata": {},
   "outputs": [
    {
     "name": "stdout",
     "output_type": "stream",
     "text": [
      "Updated list + ['Dakota Litton', 32, 6.1, 5j, [1, 2, 3], False, 'This is a test string']\n"
     ]
    }
   ],
   "source": [
    "list.append(\"This is a test string\")\n",
    "print(\"Updated list +\",list)"
   ]
  },
  {
   "cell_type": "markdown",
   "metadata": {},
   "source": [
    "Find and print the length of the list"
   ]
  },
  {
   "cell_type": "code",
   "execution_count": 8,
   "metadata": {},
   "outputs": [
    {
     "name": "stdout",
     "output_type": "stream",
     "text": [
      "The size of the list is  7\n"
     ]
    }
   ],
   "source": [
    "listLength = len(list)\n",
    "print(\"The size of the list is \",listLength)"
   ]
  },
  {
   "cell_type": "markdown",
   "metadata": {},
   "source": [
    "Slice a sub-section of the 1st list, and save it to a different 2nd list"
   ]
  },
  {
   "cell_type": "code",
   "execution_count": 23,
   "metadata": {},
   "outputs": [
    {
     "name": "stdout",
     "output_type": "stream",
     "text": [
      "[32, 6.1, 5j]\n"
     ]
    }
   ],
   "source": [
    "list2 = list[1:4]\n",
    "print(list2)"
   ]
  },
  {
   "cell_type": "markdown",
   "metadata": {},
   "source": [
    "Extend your original list with the 2nd list sliced above."
   ]
  },
  {
   "cell_type": "code",
   "execution_count": 13,
   "metadata": {},
   "outputs": [
    {
     "name": "stdout",
     "output_type": "stream",
     "text": [
      "Extended list is  ['Dakota Litton', 32, 6.1, 5j, [1, 2, 3], False, 'This is a test string', 32, 6.1]\n"
     ]
    }
   ],
   "source": [
    "list.extend(list2)\n",
    "print(\"Extended list is \",list)"
   ]
  },
  {
   "cell_type": "markdown",
   "metadata": {},
   "source": [
    "Create a new list called \"simList\" containing at least 5 elements of the same data type, either string, integer, float, or Boolean."
   ]
  },
  {
   "cell_type": "code",
   "execution_count": 16,
   "metadata": {},
   "outputs": [],
   "source": [
    "simList = [12, 32, 13, 66, 9]"
   ]
  },
  {
   "cell_type": "markdown",
   "metadata": {},
   "source": [
    "Sort \"simList\", and print the list"
   ]
  },
  {
   "cell_type": "code",
   "execution_count": 17,
   "metadata": {},
   "outputs": [
    {
     "name": "stdout",
     "output_type": "stream",
     "text": [
      "[9, 12, 13, 32, 66]\n"
     ]
    }
   ],
   "source": [
    "simList.sort()\n",
    "print(simList)"
   ]
  },
  {
   "cell_type": "markdown",
   "metadata": {},
   "source": [
    "Copy the \"simList\" list to another 3rd list"
   ]
  },
  {
   "cell_type": "code",
   "execution_count": 29,
   "metadata": {},
   "outputs": [
    {
     "name": "stdout",
     "output_type": "stream",
     "text": [
      "[9, 12, 13, 32, 66]\n"
     ]
    }
   ],
   "source": [
    "thirdList = simList.copy()\n",
    "print(thirdList)"
   ]
  },
  {
   "cell_type": "markdown",
   "metadata": {},
   "source": [
    "Add the 2nd and 3rd lists together into a 4th list"
   ]
  },
  {
   "cell_type": "code",
   "execution_count": 31,
   "metadata": {},
   "outputs": [],
   "source": [
    "list4 = (list2 + thirdList)"
   ]
  },
  {
   "cell_type": "markdown",
   "metadata": {},
   "source": [
    "# Create a tuple of about 5 elements"
   ]
  },
  {
   "cell_type": "code",
   "execution_count": 40,
   "metadata": {},
   "outputs": [],
   "source": [
    "tuple1 = (\"Nelson\", \"Howard\", \"Turkgolu\", \"Lewis\",\"Pietrus\")"
   ]
  },
  {
   "cell_type": "markdown",
   "metadata": {},
   "source": [
    "Multiply your tuple by 3 and save it to a new 2nd tuple"
   ]
  },
  {
   "cell_type": "code",
   "execution_count": 41,
   "metadata": {},
   "outputs": [
    {
     "name": "stdout",
     "output_type": "stream",
     "text": [
      "('Nelson', 'Howard', 'Turkgolu', 'Lewis', 'Pietrus', 'Nelson', 'Howard', 'Turkgolu', 'Lewis', 'Pietrus', 'Nelson', 'Howard', 'Turkgolu', 'Lewis', 'Pietrus')\n"
     ]
    }
   ],
   "source": [
    "tuple2 = tuple1 * 3\n",
    "print(tuple2)"
   ]
  },
  {
   "cell_type": "markdown",
   "metadata": {},
   "source": [
    "Access and print the 12th element from the 2nd tuple"
   ]
  },
  {
   "cell_type": "code",
   "execution_count": 42,
   "metadata": {},
   "outputs": [
    {
     "name": "stdout",
     "output_type": "stream",
     "text": [
      "Turkgolu\n"
     ]
    }
   ],
   "source": [
    "print(tuple2[12])"
   ]
  },
  {
   "cell_type": "markdown",
   "metadata": {},
   "source": [
    "Sort the second tuple and print it."
   ]
  },
  {
   "cell_type": "code",
   "execution_count": 43,
   "metadata": {},
   "outputs": [
    {
     "name": "stdout",
     "output_type": "stream",
     "text": [
      "['Howard', 'Howard', 'Howard', 'Lewis', 'Lewis', 'Lewis', 'Nelson', 'Nelson', 'Nelson', 'Pietrus', 'Pietrus', 'Pietrus', 'Turkgolu', 'Turkgolu', 'Turkgolu']\n"
     ]
    }
   ],
   "source": [
    "print(sorted(tuple2))"
   ]
  },
  {
   "cell_type": "markdown",
   "metadata": {},
   "source": [
    "Copy 4 specific elements from your 2nd tuple to a new 3rd tuple. "
   ]
  },
  {
   "cell_type": "code",
   "execution_count": 44,
   "metadata": {},
   "outputs": [
    {
     "name": "stdout",
     "output_type": "stream",
     "text": [
      "('Howard', 'Turkgolu', 'Lewis', 'Pietrus')\n"
     ]
    }
   ],
   "source": [
    "tuple3 = tuple2[1:5]\n",
    "print(tuple3)"
   ]
  },
  {
   "cell_type": "markdown",
   "metadata": {},
   "source": [
    "# Create a set of about 3 elements"
   ]
  },
  {
   "cell_type": "code",
   "execution_count": 2,
   "metadata": {},
   "outputs": [],
   "source": [
    "set1 = {\"Carrots\", \"Celery\", \"Lettuce\" }"
   ]
  },
  {
   "cell_type": "markdown",
   "metadata": {},
   "source": [
    "Add a list of fruits to the above set and print the result"
   ]
  },
  {
   "cell_type": "code",
   "execution_count": 4,
   "metadata": {},
   "outputs": [
    {
     "name": "stdout",
     "output_type": "stream",
     "text": [
      "{'Celery', 'Orange', 'Lettuce', 'Carrots', 'Apple', 'Banana'}\n"
     ]
    }
   ],
   "source": [
    "set1.add(\"Orange\")\n",
    "set1.add(\"Apple\")\n",
    "set1.add(\"Banana\")\n",
    "print(set1)"
   ]
  },
  {
   "cell_type": "markdown",
   "metadata": {},
   "source": [
    "Add a car element to your set."
   ]
  },
  {
   "cell_type": "code",
   "execution_count": 5,
   "metadata": {},
   "outputs": [],
   "source": [
    "set1.add(\"Car\")"
   ]
  },
  {
   "cell_type": "markdown",
   "metadata": {},
   "source": [
    "Create a 2nd set with a few odd items."
   ]
  },
  {
   "cell_type": "code",
   "execution_count": 6,
   "metadata": {},
   "outputs": [],
   "source": [
    "set2 = {\"thimble\",\"fetta\",\"bop-it\"}"
   ]
  },
  {
   "cell_type": "markdown",
   "metadata": {},
   "source": [
    "Save the union of 1st set and 2nd set to a 3rd set"
   ]
  },
  {
   "cell_type": "code",
   "execution_count": 7,
   "metadata": {},
   "outputs": [],
   "source": [
    "set3 = set1.union(set2)"
   ]
  },
  {
   "cell_type": "markdown",
   "metadata": {},
   "source": [
    "Pop an element from the 2nd set, and print the remainder of the set"
   ]
  },
  {
   "cell_type": "code",
   "execution_count": 9,
   "metadata": {},
   "outputs": [
    {
     "name": "stdout",
     "output_type": "stream",
     "text": [
      "{'bop-it', 'fetta'}\n"
     ]
    }
   ],
   "source": [
    "set2.pop()\n",
    "print(set2)"
   ]
  },
  {
   "cell_type": "markdown",
   "metadata": {},
   "source": [
    "Clear the 1st set and print the result."
   ]
  },
  {
   "cell_type": "code",
   "execution_count": 10,
   "metadata": {},
   "outputs": [
    {
     "name": "stdout",
     "output_type": "stream",
     "text": [
      "set()\n"
     ]
    }
   ],
   "source": [
    "set1.clear()\n",
    "print(set1)"
   ]
  },
  {
   "cell_type": "markdown",
   "metadata": {},
   "source": [
    "Discard an element, and remove another element from the 3rd set"
   ]
  },
  {
   "cell_type": "code",
   "execution_count": 11,
   "metadata": {},
   "outputs": [],
   "source": [
    "set3.discard(\"fetta\")\n",
    "set3.remove(\"Orange\")"
   ]
  },
  {
   "cell_type": "markdown",
   "metadata": {},
   "source": [
    "Print the remainder of the third set."
   ]
  },
  {
   "cell_type": "code",
   "execution_count": 12,
   "metadata": {},
   "outputs": [
    {
     "name": "stdout",
     "output_type": "stream",
     "text": [
      "{'Celery', 'thimble', 'Lettuce', 'bop-it', 'Carrots', 'Apple', 'Car', 'Banana'}\n"
     ]
    }
   ],
   "source": [
    "print(set3)"
   ]
  },
  {
   "cell_type": "markdown",
   "metadata": {},
   "source": [
    "# Create a dictionary with at least 5 values of different data types"
   ]
  },
  {
   "cell_type": "code",
   "execution_count": 21,
   "metadata": {},
   "outputs": [],
   "source": [
    "d = {\n",
    "    \"Name\":\"Dakota\",\n",
    "    \"Age\":32,\n",
    "    \"Weight\":215.5,\n",
    "    \"Brothers\":[\"Wesley\",\"Dallas\",\"Randy\",\"Phillip\"],\n",
    "    \"Cool\": False\n",
    "}"
   ]
  },
  {
   "cell_type": "markdown",
   "metadata": {},
   "source": [
    "Print out 1 value"
   ]
  },
  {
   "cell_type": "code",
   "execution_count": 22,
   "metadata": {},
   "outputs": [
    {
     "name": "stdout",
     "output_type": "stream",
     "text": [
      "['Wesley', 'Dallas', 'Randy', 'Phillip']\n"
     ]
    }
   ],
   "source": [
    "x = d.get(\"Brothers\")\n",
    "print(x)"
   ]
  },
  {
   "cell_type": "markdown",
   "metadata": {},
   "source": [
    "Replace any one value in your dictionary with your name."
   ]
  },
  {
   "cell_type": "code",
   "execution_count": 24,
   "metadata": {},
   "outputs": [
    {
     "name": "stdout",
     "output_type": "stream",
     "text": [
      "{'Age': 32, 'Weight': 215.5, 'Brothers': ['Wesley', 'Dallas', 'Randy', 'Phillip'], 'Cool': False, 'First Name': 'Dakota'}\n"
     ]
    }
   ],
   "source": [
    "d.pop(\"Name\")\n",
    "d.update({\"First Name\": \"Dakota\"})\n",
    "print(d)"
   ]
  },
  {
   "cell_type": "markdown",
   "metadata": {},
   "source": [
    "Add your favorite color to the dictionary."
   ]
  },
  {
   "cell_type": "code",
   "execution_count": 25,
   "metadata": {},
   "outputs": [],
   "source": [
    "d.update({\"Favorite Color\": \"Green\"})"
   ]
  },
  {
   "cell_type": "markdown",
   "metadata": {},
   "source": [
    "Print a list of the dictionary keys."
   ]
  },
  {
   "cell_type": "code",
   "execution_count": 26,
   "metadata": {},
   "outputs": [
    {
     "name": "stdout",
     "output_type": "stream",
     "text": [
      "dict_keys(['Age', 'Weight', 'Brothers', 'Cool', 'First Name', 'Favorite Color'])\n"
     ]
    }
   ],
   "source": [
    "x = d.keys()\n",
    "print(x)"
   ]
  },
  {
   "cell_type": "markdown",
   "metadata": {},
   "source": [
    "Print a list of the dictionary values."
   ]
  },
  {
   "cell_type": "code",
   "execution_count": 27,
   "metadata": {},
   "outputs": [
    {
     "name": "stdout",
     "output_type": "stream",
     "text": [
      "dict_values([32, 215.5, ['Wesley', 'Dallas', 'Randy', 'Phillip'], False, 'Dakota', 'Green'])\n"
     ]
    }
   ],
   "source": [
    "x = d.values()\n",
    "print(x)"
   ]
  },
  {
   "cell_type": "markdown",
   "metadata": {},
   "source": [
    "Copy your 1st dictionary into a 2nd dictionary."
   ]
  },
  {
   "cell_type": "code",
   "execution_count": 28,
   "metadata": {},
   "outputs": [
    {
     "name": "stdout",
     "output_type": "stream",
     "text": [
      "{'Age': 32, 'Weight': 215.5, 'Brothers': ['Wesley', 'Dallas', 'Randy', 'Phillip'], 'Cool': False, 'First Name': 'Dakota', 'Favorite Color': 'Green'}\n"
     ]
    }
   ],
   "source": [
    "x = d.copy()\n",
    "print(x)"
   ]
  },
  {
   "cell_type": "markdown",
   "metadata": {},
   "source": [
    "Pop an item from the 2nd dictionary, and print the dictionary."
   ]
  },
  {
   "cell_type": "code",
   "execution_count": 29,
   "metadata": {},
   "outputs": [
    {
     "name": "stdout",
     "output_type": "stream",
     "text": [
      "{'Age': 32, 'Brothers': ['Wesley', 'Dallas', 'Randy', 'Phillip'], 'Cool': False, 'First Name': 'Dakota', 'Favorite Color': 'Green'}\n"
     ]
    }
   ],
   "source": [
    "x.pop(\"Weight\")\n",
    "print(x)"
   ]
  },
  {
   "cell_type": "markdown",
   "metadata": {},
   "source": [
    "Remove all the elements from the 2nd dictionary and print the result."
   ]
  },
  {
   "cell_type": "code",
   "execution_count": 30,
   "metadata": {},
   "outputs": [
    {
     "name": "stdout",
     "output_type": "stream",
     "text": [
      "{}\n"
     ]
    }
   ],
   "source": [
    "x.clear()\n",
    "print(x)"
   ]
  },
  {
   "cell_type": "code",
   "execution_count": null,
   "metadata": {},
   "outputs": [],
   "source": []
  },
  {
   "cell_type": "code",
   "execution_count": null,
   "metadata": {},
   "outputs": [],
   "source": []
  }
 ],
 "metadata": {
  "kernelspec": {
   "display_name": "Python 3 (ipykernel)",
   "language": "python",
   "name": "python3"
  },
  "language_info": {
   "codemirror_mode": {
    "name": "ipython",
    "version": 3
   },
   "file_extension": ".py",
   "mimetype": "text/x-python",
   "name": "python",
   "nbconvert_exporter": "python",
   "pygments_lexer": "ipython3",
   "version": "3.10.7"
  },
  "vscode": {
   "interpreter": {
    "hash": "aee8b7b246df8f9039afb4144a1f6fd8d2ca17a180786b69acc140d282b71a49"
   }
  }
 },
 "nbformat": 4,
 "nbformat_minor": 2
}
