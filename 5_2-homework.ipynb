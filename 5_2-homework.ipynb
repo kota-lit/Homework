{
 "cells": [
  {
   "cell_type": "markdown",
   "metadata": {},
   "source": [
    "# 5.2 Python Homework"
   ]
  },
  {
   "cell_type": "markdown",
   "metadata": {},
   "source": [
    "1. What is an algorithm? \n",
    "    - An algorithm is a series of mathematical instructions used to solve a problem.\n",
    "2. Why is Python considered to be a high-level language?\n",
    "    - Python is considered a high-level language because of it's readability for humans. \n",
    "3. Is Python a Natural or a Formal language?\n",
    "    - Python is a natural language.\n",
    "4. Variable names may not start with certain characters - name two.\n",
    "    - Number\n",
    "    - Asterisk\n",
    "5. What is a Semantic error?\n",
    "    - Code that runs but isn't what you intended to do. The code itself isn't inaccurate. \n",
    "6. What is the '#'1 rule of coding / debugging?\n",
    "    - Complexity is the enemy of efficiency. \n",
    "7. List 5 Python reserved words.\n",
    "    - False\n",
    "    - None\n",
    "    - And\n",
    "    - True\n",
    "    - As\n",
    "8. Add and name, a web link for any Python coding article, in your markdown cell\n",
    "    - [Learn Python for Sports Analytics](https://towardsdatascience.com/python-for-sport-scientists-descriptive-statistics-96ed7e66ab3c)"
   ]
  },
  {
   "cell_type": "code",
   "execution_count": 6,
   "metadata": {},
   "outputs": [
    {
     "name": "stdout",
     "output_type": "stream",
     "text": [
      "t\n"
     ]
    }
   ],
   "source": [
    "'''\n",
    "Name: Dakota\n",
    "Favorite Food: Buttered Chicken\n",
    "Dream Job: Sports Betting Analyst'''\n",
    "\n",
    "n = \"Dakota\"\n",
    "fn = 12\n",
    "wizards = [\"Beal\",\"Hachimura\",\"Kuzma\",\"Porzingis\",\"Gafford\",\"Avdija\",\"Kispert\"]\n",
    "ptspergame = 23.6\n",
    "c = {\"Reeses\", \"Snickers\", \"KitKat\"}\n",
    "\n",
    "len(n)\n",
    "print(n[4])\n"
   ]
  },
  {
   "cell_type": "code",
   "execution_count": 8,
   "metadata": {},
   "outputs": [
    {
     "name": "stdout",
     "output_type": "stream",
     "text": [
      "Learning Data Analytics and Python is Great!\n"
     ]
    }
   ],
   "source": [
    "savvy = \"Learning Data Analytics and Python is Awesome!\"\n",
    "savvy[5:23]\n",
    "print(savvy.replace(\"Awesome\", \"Great\"))"
   ]
  },
  {
   "cell_type": "code",
   "execution_count": 10,
   "metadata": {},
   "outputs": [
    {
     "name": "stdout",
     "output_type": "stream",
     "text": [
      "{'Hi my name is Dakota, I am Six foot 1 inch and 32 years old today.'}\n",
      "36.0\n"
     ]
    }
   ],
   "source": [
    "name, age, length = \"Dakota\", str(32), \"Six foot 1 inch\"\n",
    "minibio = {\"Hi my name is \"+ name + \", I am \" + length + \" and \" + age + \" years old today.\"}\n",
    "print(minibio)\n",
    "\n",
    "age = float(36)\n",
    "print(age)"
   ]
  },
  {
   "cell_type": "code",
   "execution_count": null,
   "metadata": {},
   "outputs": [],
   "source": []
  }
 ],
 "metadata": {
  "kernelspec": {
   "display_name": "Python 3 (ipykernel)",
   "language": "python",
   "name": "python3"
  },
  "language_info": {
   "codemirror_mode": {
    "name": "ipython",
    "version": 3
   },
   "file_extension": ".py",
   "mimetype": "text/x-python",
   "name": "python",
   "nbconvert_exporter": "python",
   "pygments_lexer": "ipython3",
   "version": "3.10.7"
  },
  "vscode": {
   "interpreter": {
    "hash": "aee8b7b246df8f9039afb4144a1f6fd8d2ca17a180786b69acc140d282b71a49"
   }
  }
 },
 "nbformat": 4,
 "nbformat_minor": 2
}
