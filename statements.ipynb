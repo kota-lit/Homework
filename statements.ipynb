{
 "cells": [
  {
   "cell_type": "code",
   "execution_count": null,
   "metadata": {},
   "outputs": [],
   "source": [
    "if a > b:\n",
    "    print(\"Michael Jordan averages more points than Lebron James\")"
   ]
  },
  {
   "cell_type": "code",
   "execution_count": null,
   "metadata": {},
   "outputs": [],
   "source": [
    "if a > b:\n",
    "    print(\"Hold the stock.\")\n",
    "else:\n",
    "    print(\"Sell the stock.\")"
   ]
  },
  {
   "cell_type": "code",
   "execution_count": null,
   "metadata": {},
   "outputs": [],
   "source": [
    "##password creator?\n",
    "a = [\"ab\",\"cd\",\"ef\"]\n",
    "b = [\"!\",\"@\",\"#\"]\n",
    "c = [\"1\",\"2\",\"3\"]\n",
    "\n",
    "for letters in a:\n",
    "    for spec_char in b:\n",
    "        for numbers in c:\n",
    "             print(letters+spec_char+numbers)"
   ]
  },
  {
   "cell_type": "code",
   "execution_count": null,
   "metadata": {},
   "outputs": [],
   "source": [
    "teams = [\"Commanders\", \"Eagles\", \"Cowboys\", \"Giants\"]\n",
    "\n",
    "for x in teams:\n",
    "    print(x)\n",
    "    if x == \"Cowboys\":\n",
    "        break"
   ]
  },
  {
   "cell_type": "code",
   "execution_count": null,
   "metadata": {},
   "outputs": [],
   "source": [
    "Name = \"Dakota\"\n",
    "\n",
    "for x in Name:\n",
    "    print(x)"
   ]
  }
 ],
 "metadata": {
  "kernelspec": {
   "display_name": "Python 3.10.7 64-bit",
   "language": "python",
   "name": "python3"
  },
  "language_info": {
   "codemirror_mode": {
    "name": "ipython",
    "version": 3
   },
   "file_extension": ".py",
   "mimetype": "text/x-python",
   "name": "python",
   "nbconvert_exporter": "python",
   "pygments_lexer": "ipython3",
   "version": "3.10.7"
  },
  "orig_nbformat": 4,
  "vscode": {
   "interpreter": {
    "hash": "aee8b7b246df8f9039afb4144a1f6fd8d2ca17a180786b69acc140d282b71a49"
   }
  }
 },
 "nbformat": 4,
 "nbformat_minor": 2
}
